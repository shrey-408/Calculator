{
 "cells": [
  {
   "cell_type": "code",
   "execution_count": 1,
   "id": "5935422b",
   "metadata": {},
   "outputs": [
    {
     "name": "stdout",
     "output_type": "stream",
     "text": [
      "Simple Python Calculator\n",
      "Select operation:\n",
      "1. Add\n",
      "2. Subtract\n",
      "3. Multiply\n",
      "4. Divide\n",
      "5. Modulo\n",
      "Result: 202.0\n",
      "Goodbye!\n"
     ]
    }
   ],
   "source": [
    "def add(a, b):\n",
    "    return a + b\n",
    "\n",
    "def subtract(a, b):\n",
    "    return a - b\n",
    "\n",
    "def multiply(a, b):\n",
    "    return a * b\n",
    "\n",
    "def divide(a, b):\n",
    "    if b == 0:\n",
    "        return \"Error: Division by zero\"\n",
    "    return a / b\n",
    "\n",
    "def modulo(a, b):\n",
    "    return a % b\n",
    "\n",
    "def calculator():\n",
    "    print(\"Simple Python Calculator\")\n",
    "    print(\"Select operation:\")\n",
    "    print(\"1. Add\")\n",
    "    print(\"2. Subtract\")\n",
    "    print(\"3. Multiply\")\n",
    "    print(\"4. Divide\")\n",
    "    print(\"5. Modulo\")\n",
    "    \n",
    "    choice = input(\"Enter choice (1/2/3/4/5): \")\n",
    "\n",
    "    if choice in ['1', '2', '3', '4', '5']:\n",
    "        try:\n",
    "            num1 = float(input(\"Enter first number: \"))\n",
    "            num2 = float(input(\"Enter second number: \"))\n",
    "        except ValueError:\n",
    "            print(\"Invalid input! Please enter numbers only.\")\n",
    "            return\n",
    "        \n",
    "        if choice == '1':\n",
    "            print(f\"Result: {add(num1, num2)}\")\n",
    "        elif choice == '2':\n",
    "            print(f\"Result: {subtract(num1, num2)}\")\n",
    "        elif choice == '3':\n",
    "            print(f\"Result: {multiply(num1, num2)}\")\n",
    "        elif choice == '4':\n",
    "            print(f\"Result: {divide(num1, num2)}\")\n",
    "        elif choice == '5':\n",
    "            print(f\"Result: {modulo(num1, num2)}\")\n",
    "    else:\n",
    "        print(\"Invalid choice!\")\n",
    "\n",
    "if __name__ == \"__main__\":\n",
    "    while True:\n",
    "        calculator()\n",
    "        again = input(\"Do you want to perform another calculation? (yes/no): \").lower()\n",
    "        if again != 'yes':\n",
    "            print(\"Goodbye!\")\n",
    "            break\n"
   ]
  },
  {
   "cell_type": "code",
   "execution_count": null,
   "id": "0a1ba619",
   "metadata": {},
   "outputs": [],
   "source": []
  }
 ],
 "metadata": {
  "kernelspec": {
   "display_name": "base",
   "language": "python",
   "name": "python3"
  },
  "language_info": {
   "codemirror_mode": {
    "name": "ipython",
    "version": 3
   },
   "file_extension": ".py",
   "mimetype": "text/x-python",
   "name": "python",
   "nbconvert_exporter": "python",
   "pygments_lexer": "ipython3",
   "version": "3.12.7"
  }
 },
 "nbformat": 4,
 "nbformat_minor": 5
}
